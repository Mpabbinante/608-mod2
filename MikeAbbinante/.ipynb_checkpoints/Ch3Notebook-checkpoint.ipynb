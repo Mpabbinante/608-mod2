{
 "cells": [
  {
   "cell_type": "markdown",
   "id": "87fcabf7-6829-446e-8506-566222aba8a9",
   "metadata": {},
   "source": [
    "#3.3 Pseudocode Self Check "
   ]
  },
  {
   "cell_type": "code",
   "execution_count": 1,
   "id": "11e601de-5f2b-4266-b1fe-b2266b5b1df9",
   "metadata": {},
   "outputs": [
    {
     "name": "stdout",
     "output_type": "stream",
     "text": [
      "The sum of 10 and 5 is 15\n"
     ]
    }
   ],
   "source": [
    "number1 = 10\n",
    "\n",
    "number2 = 5\n",
    "\n",
    "total = number1 + number2\n",
    "\n",
    "print('The sum of', number1, 'and', number2, 'is', total)\n"
   ]
  },
  {
   "cell_type": "markdown",
   "id": "dab2de69-d8dd-41e9-9c42-6185320bb68d",
   "metadata": {},
   "source": [
    "#3.4 Control Statements Self Check"
   ]
  },
  {
   "cell_type": "markdown",
   "id": "404666a1-fe23-4675-b697-2a2462fb613b",
   "metadata": {},
   "source": [
    "#Q1. You can write all Programs using three forms of control- SEQUENTIAL EXECUTION, SELECTION STATEMENT, and REPITITION STATEMENT.\n",
    "#Q2. A FLOWCHART is a graphical representation of an algorithm"
   ]
  },
  {
   "cell_type": "markdown",
   "id": "8dfc489e-cb1b-409e-96da-991d1fb70197",
   "metadata": {},
   "source": [
    "#3.5 if Statement Self Check"
   ]
  },
  {
   "cell_type": "markdown",
   "id": "8dd4a31b-73bf-4540-8e08-6ebaba1df062",
   "metadata": {},
   "source": [
    "#1.If you indent a suite's statements, you will not get an IndentationError.\n",
    "    #1a. false. All statments in a suite must have the same indentation. Otherwise an IndentationError occurs."
   ]
  },
  {
   "cell_type": "code",
   "execution_count": 2,
   "id": "3af91a1a-0e98-454e-81f8-bd0603d052b3",
   "metadata": {},
   "outputs": [
    {
     "name": "stdout",
     "output_type": "stream",
     "text": [
      "Passed\n"
     ]
    }
   ],
   "source": [
    "#2\n",
    "grade=85\n",
    "\n",
    "if grade >=60:\n",
    "    print('Passed')\n",
    "    \n",
    "grade = 55\n",
    "if grade >=60:\n",
    "      print('Passed')  \n"
   ]
  },
  {
   "cell_type": "markdown",
   "id": "a690a937-52e1-49d1-b09c-cfbf716e1679",
   "metadata": {},
   "source": [
    "= shows that something is something example: control=27. == shows that something is equivalent example: color == colour (useful for true/false statements)"
   ]
  },
  {
   "cell_type": "markdown",
   "id": "2cdf05c7-769f-41e2-972e-6ef440a96b78",
   "metadata": {},
   "source": [
    "#3.6 if/else/elif Statements"
   ]
  },
  {
   "cell_type": "code",
   "execution_count": 3,
   "id": "25028001-36f8-4705-a118-0b3e8c9b7ad7",
   "metadata": {},
   "outputs": [
    {
     "name": "stdout",
     "output_type": "stream",
     "text": [
      "Passed\n"
     ]
    }
   ],
   "source": [
    "grade=99\n",
    "\n",
    "if grade>=80:\n",
    "    print('Passed')\n",
    "    \n",
    "else:\n",
    "    print('Failed')\n",
    "        "
   ]
  },
  {
   "cell_type": "code",
   "execution_count": 4,
   "id": "26cdc707-bd47-4382-a9b5-197e49b16bb3",
   "metadata": {},
   "outputs": [
    {
     "name": "stdout",
     "output_type": "stream",
     "text": [
      "Failed\n"
     ]
    }
   ],
   "source": [
    "grade=12\n",
    "\n",
    "if grade>=80:\n",
    "    print('Passed')\n",
    "    \n",
    "else:\n",
    "    print('Failed')"
   ]
  },
  {
   "cell_type": "code",
   "execution_count": 5,
   "id": "fe7294bd-9781-4ad3-bc26-e26bda5c76ce",
   "metadata": {},
   "outputs": [
    {
     "name": "stdout",
     "output_type": "stream",
     "text": [
      "Passed\n"
     ]
    }
   ],
   "source": [
    "grade=60\n",
    "if grade>=60:\n",
    "    print('Passed')\n",
    "else:\n",
    "    print('Failed')"
   ]
  },
  {
   "cell_type": "code",
   "execution_count": 6,
   "id": "f2202853-a539-46af-b01c-efa6aa004188",
   "metadata": {},
   "outputs": [
    {
     "name": "stdout",
     "output_type": "stream",
     "text": [
      "failed\n"
     ]
    }
   ],
   "source": [
    "grade=34\n",
    "\n",
    "result=('passed' if grade >= 60 else 'failed')\n",
    "\n",
    "print(result)"
   ]
  },
  {
   "cell_type": "code",
   "execution_count": 7,
   "id": "b678da6e-b09a-48a6-9729-80ca64657c89",
   "metadata": {},
   "outputs": [
    {
     "name": "stdout",
     "output_type": "stream",
     "text": [
      "passed\n"
     ]
    }
   ],
   "source": [
    "grade=87\n",
    "result=('passed' if grade >= 60 else 'failed')\n",
    "print(result)"
   ]
  },
  {
   "cell_type": "code",
   "execution_count": 8,
   "id": "0ac7b2fd-4c1e-4b97-b636-aa041360ff58",
   "metadata": {},
   "outputs": [
    {
     "name": "stdout",
     "output_type": "stream",
     "text": [
      "Failed\n",
      "You must take this class again\n"
     ]
    }
   ],
   "source": [
    "grade=44\n",
    "\n",
    "if grade>=60:\n",
    "    print('Passed')\n",
    "    \n",
    "else:\n",
    "    print('Failed')\n",
    "    print('You must take this class again')"
   ]
  },
  {
   "cell_type": "code",
   "execution_count": 9,
   "id": "a748600f-1378-476e-97e6-fec560286f9d",
   "metadata": {},
   "outputs": [
    {
     "name": "stdout",
     "output_type": "stream",
     "text": [
      "F\n"
     ]
    }
   ],
   "source": [
    "grade=44\n",
    "if grade>=90:\n",
    "    print('A')\n",
    "    \n",
    "elif grade>= 80:\n",
    "    print('B')\n",
    "    \n",
    "elif grade>= 70:\n",
    "    print('C')\n",
    "    \n",
    "elif grade>= 60:\n",
    "    print('D')\n",
    "    \n",
    "else:\n",
    "    print('F')"
   ]
  },
  {
   "cell_type": "code",
   "execution_count": 10,
   "id": "5f08ccad-aa65-45aa-a0b9-0855d937ba69",
   "metadata": {},
   "outputs": [
    {
     "name": "stdout",
     "output_type": "stream",
     "text": [
      "C\n"
     ]
    }
   ],
   "source": [
    "grade=79\n",
    "\n",
    "if grade>=90:\n",
    "    print('A')\n",
    "    \n",
    "elif grade>= 80:\n",
    "    print('B')\n",
    "    \n",
    "elif grade>= 70:\n",
    "    print('C')\n",
    "    \n",
    "elif grade>= 60:\n",
    "    print('D')\n",
    "    \n",
    "else:\n",
    "    print('F')"
   ]
  },
  {
   "cell_type": "markdown",
   "id": "6d357d89-c2ad-42a7-9fdd-dacadda756aa",
   "metadata": {},
   "source": [
    "#3.6 if/else/elif Statements Self Check"
   ]
  },
  {
   "cell_type": "markdown",
   "id": "c47d3ad7-07e4-4433-b7a5-04d9ae249721",
   "metadata": {},
   "source": [
    "Q1. A fatal logic error causes a script to produce incorrect results\n",
    "    Answer: False. A fatal logic error causes a script to terminate"
   ]
  },
  {
   "cell_type": "markdown",
   "id": "b1659c83-d9eb-4281-ae0a-e222790f3d91",
   "metadata": {},
   "source": [
    "#Q2\n",
    "grade=86\n",
    "\n",
    "if grade>=90:\n",
    "    \n",
    "     print('A')\n",
    "else:\n",
    "    \n",
    "    print('Not A or B')\n",
    "    \n",
    "elif grade>= 80"
   ]
  },
  {
   "cell_type": "markdown",
   "id": "dce2d711-1ace-4c4c-93e6-f4f3160a8e1f",
   "metadata": {},
   "source": [
    "#3.7 while statements"
   ]
  },
  {
   "cell_type": "code",
   "execution_count": 11,
   "id": "c9026bca-9389-428b-8c03-7decf7fc6892",
   "metadata": {},
   "outputs": [
    {
     "data": {
      "text/plain": [
       "81"
      ]
     },
     "execution_count": 11,
     "metadata": {},
     "output_type": "execute_result"
    }
   ],
   "source": [
    "product = (3)\n",
    "\n",
    "while product <= 50:\n",
    "    \n",
    "    product = product * 3\n",
    "    \n",
    "product"
   ]
  },
  {
   "cell_type": "code",
   "execution_count": 12,
   "id": "d42f7496-d03c-4ecc-ba3f-036aa6f4724f",
   "metadata": {},
   "outputs": [
    {
     "data": {
      "text/plain": [
       "521"
      ]
     },
     "execution_count": 12,
     "metadata": {},
     "output_type": "execute_result"
    }
   ],
   "source": [
    "product = (521)\n",
    "\n",
    "while product <= 50:\n",
    "    \n",
    "    product = product * 3\n",
    "    \n",
    "product"
   ]
  },
  {
   "cell_type": "code",
   "execution_count": 13,
   "id": "cff5e23a-7f4b-41b1-8c6f-915220a8f610",
   "metadata": {},
   "outputs": [
    {
     "data": {
      "text/plain": [
       "63"
      ]
     },
     "execution_count": 13,
     "metadata": {},
     "output_type": "execute_result"
    }
   ],
   "source": [
    "product = (7)\n",
    "\n",
    "while product <= 50:\n",
    "    product = product * 3\n",
    "    \n",
    "product"
   ]
  },
  {
   "cell_type": "markdown",
   "id": "cd2d642f-84d1-4ec5-bafd-e06b7fda3154",
   "metadata": {},
   "source": [
    "3.7. Self Check\n"
   ]
  },
  {
   "cell_type": "markdown",
   "id": "dd925c35-24f0-4cb6-9ef9-1c55c2a3e9db",
   "metadata": {},
   "source": [
    "Q1. A -while- statement performs its suit while some condition remains true.\n",
    "       A. True"
   ]
  },
  {
   "cell_type": "code",
   "execution_count": 14,
   "id": "4d224a8c-0272-4535-b26d-12717121cbdc",
   "metadata": {},
   "outputs": [
    {
     "data": {
      "text/plain": [
       "2401"
      ]
     },
     "execution_count": 14,
     "metadata": {},
     "output_type": "execute_result"
    }
   ],
   "source": [
    "#Q2.\n",
    "product = (7)\n",
    "\n",
    "while product <= 1000:\n",
    "    \n",
    "    product = product * 7\n",
    "    \n",
    "product\n",
    "    "
   ]
  },
  {
   "cell_type": "markdown",
   "id": "dd2c67f9-8733-4de1-96c7-0508d0b40132",
   "metadata": {},
   "source": [
    "#3.8 For statements"
   ]
  },
  {
   "cell_type": "code",
   "execution_count": 15,
   "id": "daa85af9-3dbc-49dc-98cc-720a9fa3f412",
   "metadata": {},
   "outputs": [
    {
     "name": "stdout",
     "output_type": "stream",
     "text": [
      "p r o g r a m m i n g "
     ]
    }
   ],
   "source": [
    "for character in 'programming':\n",
    "    print(character, end=' ')"
   ]
  },
  {
   "cell_type": "code",
   "execution_count": 16,
   "id": "be211320-9889-4c33-9c34-e5ebfea0e8df",
   "metadata": {},
   "outputs": [
    {
     "name": "stdout",
     "output_type": "stream",
     "text": [
      "p 3 r 3 o 3 g 3 r 3 a 3 m 3 m 3 i 3 n 3 g 3 "
     ]
    }
   ],
   "source": [
    "for character in 'programming':\n",
    "    print(character, end=' 3 ')"
   ]
  },
  {
   "cell_type": "code",
   "execution_count": 17,
   "id": "3fd7834a-bbfa-4644-8a0f-46593fe1790c",
   "metadata": {},
   "outputs": [
    {
     "name": "stdout",
     "output_type": "stream",
     "text": [
      "2 3 1 3 "
     ]
    }
   ],
   "source": [
    "for character in '21':\n",
    "    print(character, end=' 3 ')"
   ]
  },
  {
   "cell_type": "code",
   "execution_count": 18,
   "id": "438e8694-d5fa-4781-b375-ea196451ebd3",
   "metadata": {},
   "outputs": [
    {
     "name": "stdout",
     "output_type": "stream",
     "text": [
      "10, 20, 30\n"
     ]
    }
   ],
   "source": [
    "print(10, 20, 30, sep=', ')"
   ]
  },
  {
   "cell_type": "code",
   "execution_count": 19,
   "id": "c0691e26-f60f-4388-b383-1f4a1fc0b3c8",
   "metadata": {},
   "outputs": [
    {
     "data": {
      "text/plain": [
       "25"
      ]
     },
     "execution_count": 19,
     "metadata": {},
     "output_type": "execute_result"
    }
   ],
   "source": [
    "total = 0 \n",
    "for number in (2, -3, 0, 17, 9):\n",
    "    total = total+number\n",
    "total"
   ]
  },
  {
   "cell_type": "code",
   "execution_count": 20,
   "id": "1bcbfec6-3c96-4c17-989c-8954d9c7a78c",
   "metadata": {},
   "outputs": [
    {
     "data": {
      "text/plain": [
       "47"
      ]
     },
     "execution_count": 20,
     "metadata": {},
     "output_type": "execute_result"
    }
   ],
   "source": [
    "total = 22 \n",
    "for number in (2, -3, 0, 17, 9):\n",
    "    total = total+number\n",
    "total"
   ]
  },
  {
   "cell_type": "code",
   "execution_count": 21,
   "id": "c361e587-65d2-4310-b22a-5ae8d4ce7225",
   "metadata": {},
   "outputs": [
    {
     "data": {
      "text/plain": [
       "100"
      ]
     },
     "execution_count": 21,
     "metadata": {},
     "output_type": "execute_result"
    }
   ],
   "source": [
    "total = 0\n",
    "\n",
    "for number in (2, -3, 0, 17, 9):\n",
    "    total = total + number * 2**2\n",
    "total"
   ]
  },
  {
   "cell_type": "code",
   "execution_count": 22,
   "id": "930fa1d6-0842-474f-a919-aa66b1bcab9d",
   "metadata": {},
   "outputs": [
    {
     "name": "stdout",
     "output_type": "stream",
     "text": [
      "0 1 2 3 4 5 6 7 8 9 "
     ]
    }
   ],
   "source": [
    "for counter in range(10):\n",
    "    print(counter, end=' ')"
   ]
  },
  {
   "cell_type": "code",
   "execution_count": 23,
   "id": "38d9ce7d-8a51-45a5-b088-b87409f06ea7",
   "metadata": {},
   "outputs": [
    {
     "name": "stdout",
     "output_type": "stream",
     "text": [
      "0 2 2 1 2 2 2 2 2 3 2 2 4 2 2 5 2 2 6 2 2 7 2 2 8 2 2 9 2 2 "
     ]
    }
   ],
   "source": [
    "for counter in range(10):\n",
    "    print(counter, end=' 2 2 ')"
   ]
  },
  {
   "cell_type": "code",
   "execution_count": 24,
   "id": "9146062c-56d8-4d2a-ac7c-7a11cedc259d",
   "metadata": {},
   "outputs": [
    {
     "name": "stdout",
     "output_type": "stream",
     "text": [
      "010 110 210 310 410 510 610 710 810 910 "
     ]
    }
   ],
   "source": [
    "for counter in range(10):\n",
    "    print(counter, end='10 ')"
   ]
  },
  {
   "cell_type": "markdown",
   "id": "5d6e48fc-cc7b-4552-a9e0-13aaa3f41345",
   "metadata": {},
   "source": [
    "3.8 Self check \n",
    "    Q1. Function Range generates a sequence of integers.\n",
    "    "
   ]
  },
  {
   "cell_type": "code",
   "execution_count": 25,
   "id": "b76fa82d-88a5-42c9-81e4-6ce73835025a",
   "metadata": {},
   "outputs": [
    {
     "data": {
      "text/plain": [
       "500000500000"
      ]
     },
     "execution_count": 25,
     "metadata": {},
     "output_type": "execute_result"
    }
   ],
   "source": [
    "#Q2\n",
    "Total = (0)\n",
    "\n",
    "for number in range(1000001):\n",
    "    Total = Total + number\n",
    "Total   "
   ]
  },
  {
   "cell_type": "markdown",
   "id": "cc9e521a-6500-4f0f-9ce5-15ae06c418e6",
   "metadata": {},
   "source": [
    "#3.9 Augmented Assignments"
   ]
  },
  {
   "cell_type": "code",
   "execution_count": 26,
   "id": "4344f6b9-6264-4e0a-ae41-e571daa1cbab",
   "metadata": {},
   "outputs": [
    {
     "data": {
      "text/plain": [
       "15"
      ]
     },
     "execution_count": 26,
     "metadata": {},
     "output_type": "execute_result"
    }
   ],
   "source": [
    "total = 0\n",
    "for number in (1,2,3,4,5):\n",
    "    total += number\n",
    "total"
   ]
  },
  {
   "cell_type": "code",
   "execution_count": 27,
   "id": "ebf69408-129f-478f-b9c3-8ad3f0aa3686",
   "metadata": {},
   "outputs": [
    {
     "data": {
      "text/plain": [
       "129"
      ]
     },
     "execution_count": 27,
     "metadata": {},
     "output_type": "execute_result"
    }
   ],
   "source": [
    "total = 0\n",
    "for number in (1,3,6,114,5):\n",
    "    total += number\n",
    "total"
   ]
  },
  {
   "cell_type": "code",
   "execution_count": 28,
   "id": "304d9d41-87f5-4712-8bc9-d4194ae174f1",
   "metadata": {},
   "outputs": [
    {
     "data": {
      "text/plain": [
       "-129"
      ]
     },
     "execution_count": 28,
     "metadata": {},
     "output_type": "execute_result"
    }
   ],
   "source": [
    "total = 0\n",
    "for number in (1,3,6,114,5):\n",
    "    total -= number\n",
    "total"
   ]
  },
  {
   "cell_type": "code",
   "execution_count": 29,
   "id": "05a6b690-7c47-4452-9974-26bac70561e5",
   "metadata": {},
   "outputs": [
    {
     "data": {
      "text/plain": [
       "280"
      ]
     },
     "execution_count": 29,
     "metadata": {},
     "output_type": "execute_result"
    }
   ],
   "source": [
    "total = 1\n",
    "for number in (1,2,2,14,5):\n",
    "    total *= number\n",
    "total"
   ]
  },
  {
   "cell_type": "markdown",
   "id": "4fe7588d-938b-40be-9e79-49849494b8ce",
   "metadata": {},
   "source": [
    "3.9 Self check\n",
    "    Q1-A. if X is , the value of X after evaluating X *=5 is 35\n",
    " "
   ]
  },
  {
   "cell_type": "code",
   "execution_count": 30,
   "id": "3696bb06-ed6d-4cff-9f38-aa75128500b6",
   "metadata": {},
   "outputs": [
    {
     "data": {
      "text/plain": [
       "144"
      ]
     },
     "execution_count": 30,
     "metadata": {},
     "output_type": "execute_result"
    }
   ],
   "source": [
    "#Q2\n",
    "X=12\n",
    "\n",
    "X**=2\n",
    "\n",
    "X"
   ]
  },
  {
   "cell_type": "markdown",
   "id": "65dd5d63-c882-4ff9-a11c-9b40dc231478",
   "metadata": {},
   "source": [
    "3.10 Program Development: Sequence-Controlled Repetition\n"
   ]
  },
  {
   "cell_type": "markdown",
   "id": "3f02c628-d82b-453e-8883-4c554a3afcf0",
   "metadata": {},
   "source": [
    "grades= (98, 76, 71, 87, 83, 90, 57, 79, 82, 94)"
   ]
  },
  {
   "cell_type": "code",
   "execution_count": 31,
   "id": "1c2273b6-1fde-4de6-92fb-fb022e8dc439",
   "metadata": {},
   "outputs": [
    {
     "name": "stdout",
     "output_type": "stream",
     "text": [
      "Class average is 79.0\n"
     ]
    }
   ],
   "source": [
    "Total=0\n",
    "\n",
    "grade_counter = 0\n",
    "\n",
    "grades= (98, 76, 71, 87, 83, 90, 57, 79, 82, 94)\n",
    "\n",
    "for grades in grades:\n",
    "    Total+= grade\n",
    "    grade_counter += 1\n",
    "    \n",
    "average = Total / grade_counter\n",
    "\n",
    "print(f'Class average is {average}')\n"
   ]
  },
  {
   "cell_type": "code",
   "execution_count": 32,
   "id": "a9cb3828-a7c0-4ed9-8844-b9586cb3eadd",
   "metadata": {},
   "outputs": [
    {
     "name": "stdout",
     "output_type": "stream",
     "text": [
      "control average is 13.142857142857142\n"
     ]
    }
   ],
   "source": [
    "Total=0\n",
    "\n",
    "control_counter = 0\n",
    "\n",
    "controls = (12, 14, 16, 9, 16, 13, 12)\n",
    "\n",
    "for controls in controls:\n",
    "    Total += controls\n",
    "    control_counter += 1\n",
    "    \n",
    "average = Total / control_counter\n",
    "\n",
    "print(f'control average is {average}')"
   ]
  },
  {
   "cell_type": "code",
   "execution_count": 33,
   "id": "3ed5636e-8744-4313-8115-cc6163dca161",
   "metadata": {},
   "outputs": [
    {
     "name": "stdout",
     "output_type": "stream",
     "text": [
      "There are 22.0 sheds in the neighborhood\n"
     ]
    }
   ],
   "source": [
    "Sheds=0\n",
    "\n",
    "Shed_counter = 0\n",
    "\n",
    "Sheds_per_street = (1, 2, 4, 2, 6, 3, 4)\n",
    "\n",
    "for Sheds_per_street in Sheds_per_street:\n",
    "    Sheds += Sheds_per_street\n",
    "    Shed_counter = 1\n",
    "    \n",
    "average = Sheds / Shed_counter\n",
    "\n",
    "print(f'There are {average} sheds in the neighborhood')"
   ]
  },
  {
   "cell_type": "markdown",
   "id": "49aedf95-53eb-4183-8fd5-02a50fb78f65",
   "metadata": {},
   "source": [
    "3.10 Self Checks\n",
    "    Q1-A. A requirements statement describes what a program is supposed to do, but not how the program should do it.\n",
    "    Q2-A. Many of the scripts you'll write can be decomposed into three phases initialization, processing, and termination."
   ]
  },
  {
   "cell_type": "code",
   "execution_count": 34,
   "id": "f3d8d53e-9e20-41e6-896f-7cae87f265a4",
   "metadata": {},
   "outputs": [
    {
     "name": "stdout",
     "output_type": "stream",
     "text": [
      "7 times 5 is 35\n"
     ]
    }
   ],
   "source": [
    "#Q3\n",
    "\n",
    "number1 = 7\n",
    "\n",
    "number2 = 5\n",
    "\n",
    "print(f'{number1} times {number2} is {number1 * number2}')"
   ]
  },
  {
   "cell_type": "markdown",
   "id": "cff78ffb-f9ed-4a89-bbbe-4f8061f408fc",
   "metadata": {},
   "source": [
    "3.13 Built in functions"
   ]
  },
  {
   "cell_type": "code",
   "execution_count": 35,
   "id": "d031689e-da0a-432a-8e86-2f0ff59cfd69",
   "metadata": {},
   "outputs": [
    {
     "name": "stdout",
     "output_type": "stream",
     "text": [
      "1 2 3 4 5 6 7 "
     ]
    }
   ],
   "source": [
    "for number in range(1,8):\n",
    "    print(number, end=' ')"
   ]
  },
  {
   "cell_type": "code",
   "execution_count": 36,
   "id": "7c53162a-e949-4b74-8b1f-f8d5b9edf509",
   "metadata": {},
   "outputs": [
    {
     "name": "stdout",
     "output_type": "stream",
     "text": [
      "-7 -6 -5 -4 -3 -2 -1 0 1 2 "
     ]
    }
   ],
   "source": [
    "for number in range(-7,3):\n",
    "    print(number, end=' ')"
   ]
  },
  {
   "cell_type": "code",
   "execution_count": 37,
   "id": "b5432b30-7644-4b0b-9403-489cfff7a125",
   "metadata": {},
   "outputs": [
    {
     "name": "stdout",
     "output_type": "stream",
     "text": [
      "-7 -5 -3 -1 1 "
     ]
    }
   ],
   "source": [
    "for number in range(-7, 3, 2):\n",
    "    print(number, end=' ')"
   ]
  },
  {
   "cell_type": "code",
   "execution_count": 38,
   "id": "82b677c9-bd6a-4880-b6b4-f31f661afea5",
   "metadata": {},
   "outputs": [
    {
     "name": "stdout",
     "output_type": "stream",
     "text": [
      "10 8 6 4 2 "
     ]
    }
   ],
   "source": [
    "for number in range(10, 0, -2):\n",
    "    print(number, end=' ')"
   ]
  },
  {
   "cell_type": "code",
   "execution_count": 39,
   "id": "b43fdcdb-282f-4d2d-a156-b518a83129c8",
   "metadata": {},
   "outputs": [
    {
     "name": "stdout",
     "output_type": "stream",
     "text": [
      "-90 -58 -26 6 38 70 "
     ]
    }
   ],
   "source": [
    "for number in range(-90, 98, 32):\n",
    "    print(number, end=' ')"
   ]
  },
  {
   "cell_type": "markdown",
   "id": "6f1b3d54-f6d1-41c8-99e5-c96c8756685c",
   "metadata": {},
   "source": [
    "3.14 Using Type Decimal for Monetary Amounts "
   ]
  },
  {
   "cell_type": "code",
   "execution_count": 40,
   "id": "209d3236-03ad-43d4-bbae-8c51f4f604ba",
   "metadata": {},
   "outputs": [
    {
     "name": "stdout",
     "output_type": "stream",
     "text": [
      "112.31\n",
      "112.31000000000000227374\n"
     ]
    },
    {
     "data": {
      "text/plain": [
       "Decimal('12.5')"
      ]
     },
     "execution_count": 40,
     "metadata": {},
     "output_type": "execute_result"
    }
   ],
   "source": [
    "amount=112.31\n",
    "\n",
    "print(amount)\n",
    "\n",
    "print(f'{amount:.20f}')\n",
    "\n",
    "from decimal import Decimal\n",
    "\n",
    "principal = Decimal('1000.00')\n",
    "principal\n",
    "rate= Decimal('0.05')\n",
    "rate\n",
    "\n",
    "x=Decimal('10.5')\n",
    "\n",
    "y=Decimal('2')\n",
    "\n",
    "x+y\n",
    "\n",
    "x//y\n",
    "\n",
    "x += y\n",
    "\n",
    "x"
   ]
  },
  {
   "cell_type": "markdown",
   "id": "84248fe9-b372-47c7-aef1-468dd7276311",
   "metadata": {},
   "source": [
    "3.15 break and continue Statements "
   ]
  },
  {
   "cell_type": "code",
   "execution_count": 41,
   "id": "3619634f-d689-4d90-8c7a-01d35604d8cc",
   "metadata": {},
   "outputs": [
    {
     "name": "stdout",
     "output_type": "stream",
     "text": [
      "0 1 2 3 4 5 6 7 8 9 "
     ]
    }
   ],
   "source": [
    "for number in range(99):\n",
    "    if number == 10:\n",
    "        break\n",
    "    print(number, end=' ')"
   ]
  },
  {
   "cell_type": "code",
   "execution_count": 42,
   "id": "55a9edc1-417b-4dac-8164-b0ab713dc3cb",
   "metadata": {},
   "outputs": [
    {
     "name": "stdout",
     "output_type": "stream",
     "text": [
      "0 1 2 3 4 5 7 8 9 10 11 12 13 14 15 16 17 18 19 20 21 22 23 24 25 26 27 28 29 30 31 32 33 34 35 36 37 38 39 40 41 42 43 44 45 46 47 48 49 50 51 52 53 54 55 56 57 58 59 60 61 62 63 64 65 66 67 68 69 70 71 72 73 74 75 76 77 78 79 80 81 82 83 84 85 86 87 88 89 90 91 92 93 94 95 96 97 98 "
     ]
    }
   ],
   "source": [
    "for number in range(99):\n",
    "    if number == 6:\n",
    "        continue\n",
    "    print(number, end=' ')"
   ]
  },
  {
   "cell_type": "code",
   "execution_count": 43,
   "id": "7a65ddbd-63ba-416e-b633-8622bb079f16",
   "metadata": {},
   "outputs": [
    {
     "name": "stdout",
     "output_type": "stream",
     "text": [
      "0 3 9 12 15 18 21 24 27 30 33 36 39 42 45 48 51 54 57 60 63 66 69 72 75 78 81 84 87 90 93 96 "
     ]
    }
   ],
   "source": [
    "for number in range(0, 99, 3):\n",
    "    if number == 6:\n",
    "        continue\n",
    "    print(number, end=' ')"
   ]
  },
  {
   "cell_type": "code",
   "execution_count": 44,
   "id": "6cae9f7e-6c81-465d-a44a-a3976192133d",
   "metadata": {},
   "outputs": [
    {
     "name": "stdout",
     "output_type": "stream",
     "text": [
      "0 3 9 15 18 21 24 "
     ]
    }
   ],
   "source": [
    "for number in range(0, 99, 3):\n",
    "    if number == 6:\n",
    "        continue\n",
    "    if number == 12:\n",
    "        continue\n",
    "    if number == 12:\n",
    "        continue\n",
    "    if number == 27:\n",
    "        break\n",
    "    print(number, end=' ')"
   ]
  },
  {
   "cell_type": "markdown",
   "id": "61c41710-ec7d-40ec-b2a7-49890e90e991",
   "metadata": {},
   "source": [
    "3.16 Boolean Operators and, or and not. Self Check"
   ]
  },
  {
   "cell_type": "code",
   "execution_count": 45,
   "id": "664ac2da-e8f3-4d10-b4aa-259c48b7ae08",
   "metadata": {},
   "outputs": [
    {
     "data": {
      "text/plain": [
       "True"
      ]
     },
     "execution_count": 45,
     "metadata": {},
     "output_type": "execute_result"
    }
   ],
   "source": [
    "#Q1 a\n",
    "\n",
    "i=1\n",
    "\n",
    "j=2\n",
    "\n",
    "k=3\n",
    "\n",
    "m=2\n",
    "\n",
    "(i >=1) and (j <4)\n"
   ]
  },
  {
   "cell_type": "code",
   "execution_count": 46,
   "id": "285f7b92-1c00-4f1e-82d9-9fdfe8f6b45f",
   "metadata": {},
   "outputs": [
    {
     "data": {
      "text/plain": [
       "False"
      ]
     },
     "execution_count": 46,
     "metadata": {},
     "output_type": "execute_result"
    }
   ],
   "source": [
    "#Q1 b\n",
    "\n",
    "i=1\n",
    "\n",
    "j=2\n",
    "\n",
    "k=3\n",
    "\n",
    "m=2\n",
    "(m <= 99) and (k <m)\n"
   ]
  },
  {
   "cell_type": "code",
   "execution_count": 47,
   "id": "ba87b6c5-03fd-4ec8-bc4e-24f5c89d76d8",
   "metadata": {},
   "outputs": [
    {
     "data": {
      "text/plain": [
       "True"
      ]
     },
     "execution_count": 47,
     "metadata": {},
     "output_type": "execute_result"
    }
   ],
   "source": [
    "#Q1 c\n",
    "i=1\n",
    "\n",
    "j=2\n",
    "\n",
    "k=3\n",
    "\n",
    "m=2\n",
    "(j >=1) or (k== m)"
   ]
  },
  {
   "cell_type": "code",
   "execution_count": 48,
   "id": "e23836e3-87ac-4017-8905-6de19365b84a",
   "metadata": {},
   "outputs": [
    {
     "data": {
      "text/plain": [
       "True"
      ]
     },
     "execution_count": 48,
     "metadata": {},
     "output_type": "execute_result"
    }
   ],
   "source": [
    "#Q1 d\n",
    "i=1\n",
    "\n",
    "j=2\n",
    "\n",
    "k=3\n",
    "\n",
    "m=2\n",
    "(j >=1) or (k== m)"
   ]
  },
  {
   "cell_type": "code",
   "execution_count": 49,
   "id": "7e715776-32ae-41c2-a7a3-a58795aaf239",
   "metadata": {},
   "outputs": [
    {
     "data": {
      "text/plain": [
       "False"
      ]
     },
     "execution_count": 49,
     "metadata": {},
     "output_type": "execute_result"
    }
   ],
   "source": [
    "#Q1 e\n",
    "i=1\n",
    "\n",
    "j=2\n",
    "\n",
    "k=3\n",
    "\n",
    "m=2\n",
    "(k+m <j) or (3 - j >=k)"
   ]
  },
  {
   "cell_type": "code",
   "execution_count": 50,
   "id": "956246e4-72d4-474d-8582-e588997087ba",
   "metadata": {},
   "outputs": [
    {
     "data": {
      "text/plain": [
       "False"
      ]
     },
     "execution_count": 50,
     "metadata": {},
     "output_type": "execute_result"
    }
   ],
   "source": [
    "#Q1 e\n",
    "i=1\n",
    "\n",
    "j=2\n",
    "\n",
    "k=3\n",
    "\n",
    "m=2\n",
    "\n",
    "not(k > m)"
   ]
  },
  {
   "cell_type": "markdown",
   "id": "f8bb15a2-658c-4e28-b488-a1590343c8da",
   "metadata": {},
   "source": [
    "6. Calculate Measures of Central Tendency - Native Python"
   ]
  },
  {
   "cell_type": "code",
   "execution_count": 51,
   "id": "24eb12a1-cd81-4e8d-9317-fd1f0025de32",
   "metadata": {},
   "outputs": [
    {
     "data": {
      "text/plain": [
       "6"
      ]
     },
     "execution_count": 51,
     "metadata": {},
     "output_type": "execute_result"
    }
   ],
   "source": [
    "#Count\n",
    "Values = (47, 95, 88, 73, 88, 84)\n",
    "\n",
    "len(Values)"
   ]
  },
  {
   "cell_type": "code",
   "execution_count": 52,
   "id": "a596b2ee-e0ac-4549-9b76-b4c57f8aeacc",
   "metadata": {},
   "outputs": [
    {
     "data": {
      "text/plain": [
       "475"
      ]
     },
     "execution_count": 52,
     "metadata": {},
     "output_type": "execute_result"
    }
   ],
   "source": [
    "#sum\n",
    "Values = (47, 95, 88, 73, 88, 84)\n",
    "\n",
    "sum(Values)"
   ]
  },
  {
   "cell_type": "code",
   "execution_count": 53,
   "id": "621a8fd1-ec75-4282-b77b-f664e204f278",
   "metadata": {},
   "outputs": [
    {
     "data": {
      "text/plain": [
       "79.16666666666667"
      ]
     },
     "execution_count": 53,
     "metadata": {},
     "output_type": "execute_result"
    }
   ],
   "source": [
    "#mean\n",
    "Values = (47, 95, 88, 73, 88, 84)\n",
    "\n",
    "sum(Values) / len(Values)"
   ]
  },
  {
   "cell_type": "markdown",
   "id": "58bbf2e5-5133-4ae1-b80c-80c560a9e71e",
   "metadata": {},
   "source": [
    "7. Calculate Measures of Central Tendency - with Statistic Module"
   ]
  },
  {
   "cell_type": "code",
   "execution_count": 54,
   "id": "37d2b3fa-6146-4dbe-a434-85c4f049f895",
   "metadata": {},
   "outputs": [
    {
     "data": {
      "text/plain": [
       "79.16666666666667"
      ]
     },
     "execution_count": 54,
     "metadata": {},
     "output_type": "execute_result"
    }
   ],
   "source": [
    "import statistics\n",
    "\n",
    "Values = (47, 95, 88, 73, 88, 84)\n",
    "\n",
    "statistics.mean(Values)"
   ]
  },
  {
   "cell_type": "code",
   "execution_count": 55,
   "id": "60cfe056-8a26-477d-b26b-cc9ec2d2942f",
   "metadata": {},
   "outputs": [
    {
     "data": {
      "text/plain": [
       "86.0"
      ]
     },
     "execution_count": 55,
     "metadata": {},
     "output_type": "execute_result"
    }
   ],
   "source": [
    "import statistics\n",
    "\n",
    "Values = (47, 95, 88, 73, 88, 84)\n",
    "\n",
    "statistics.median(Values)"
   ]
  },
  {
   "cell_type": "code",
   "execution_count": 56,
   "id": "50090b41-b8f2-42bd-9754-2b081ecb2460",
   "metadata": {},
   "outputs": [
    {
     "data": {
      "text/plain": [
       "88"
      ]
     },
     "execution_count": 56,
     "metadata": {},
     "output_type": "execute_result"
    }
   ],
   "source": [
    "import statistics\n",
    "\n",
    "Values = (47, 95, 88, 73, 88, 84)\n",
    "\n",
    "statistics.mode(Values)"
   ]
  },
  {
   "cell_type": "markdown",
   "id": "45e15c7b-92e7-46e2-9c2d-52ef369e354c",
   "metadata": {},
   "source": [
    "8. Custom Central Tendency (Control Data)"
   ]
  },
  {
   "cell_type": "code",
   "execution_count": 57,
   "id": "a370474d-a3d4-430d-99ef-4f8c5ce071e4",
   "metadata": {},
   "outputs": [
    {
     "data": {
      "text/plain": [
       "10"
      ]
     },
     "execution_count": 57,
     "metadata": {},
     "output_type": "execute_result"
    }
   ],
   "source": [
    "#Count\n",
    "Control_Data=(24.01, 26.54, 27.3, 22.22, 31.54, 18.12, 22.5, 28.1, 23.4, 27.3)\n",
    "\n",
    "len(Control_Data)"
   ]
  },
  {
   "cell_type": "code",
   "execution_count": 58,
   "id": "3c787a3a-142d-4fc6-84f2-3e86c0adff71",
   "metadata": {},
   "outputs": [
    {
     "data": {
      "text/plain": [
       "251.03"
      ]
     },
     "execution_count": 58,
     "metadata": {},
     "output_type": "execute_result"
    }
   ],
   "source": [
    "#Sum\n",
    "Control_Data=(24.01, 26.54, 27.3, 22.22, 31.54, 18.12, 22.5, 28.1, 23.4, 27.3)\n",
    "\n",
    "sum(Control_Data)"
   ]
  },
  {
   "cell_type": "code",
   "execution_count": 59,
   "id": "b9d2ca4d-9faa-4589-893a-f0c07aaca978",
   "metadata": {},
   "outputs": [
    {
     "data": {
      "text/plain": [
       "25.103"
      ]
     },
     "execution_count": 59,
     "metadata": {},
     "output_type": "execute_result"
    }
   ],
   "source": [
    "#Mean1\n",
    "Control_Data=(24.01, 26.54, 27.3, 22.22, 31.54, 18.12, 22.5, 28.1, 23.4, 27.3)\n",
    "\n",
    "sum(Control_Data) / len(Control_Data)"
   ]
  },
  {
   "cell_type": "code",
   "execution_count": 60,
   "id": "1d750cb6-35a2-4280-b074-e48383bc3daf",
   "metadata": {},
   "outputs": [
    {
     "data": {
      "text/plain": [
       "25.103"
      ]
     },
     "execution_count": 60,
     "metadata": {},
     "output_type": "execute_result"
    }
   ],
   "source": [
    "#Mean2\n",
    "Control_Data=(24.01, 26.54, 27.3, 22.22, 31.54, 18.12, 22.5, 28.1, 23.4, 27.3)\n",
    "\n",
    "statistics.mean(Control_Data)"
   ]
  },
  {
   "cell_type": "code",
   "execution_count": 61,
   "id": "d1c87d33-98e2-4b0a-b64f-81b75ff5e285",
   "metadata": {},
   "outputs": [
    {
     "data": {
      "text/plain": [
       "25.275"
      ]
     },
     "execution_count": 61,
     "metadata": {},
     "output_type": "execute_result"
    }
   ],
   "source": [
    "#Median\n",
    "\n",
    "Control_Data=(24.01, 26.54, 27.3, 22.22, 31.54, 18.12, 22.5, 28.1, 23.4, 27.3)\n",
    "\n",
    "statistics.median(Control_Data)\n"
   ]
  },
  {
   "cell_type": "code",
   "execution_count": 62,
   "id": "f85c4a75-3d74-4c7d-acfb-a72671f04381",
   "metadata": {},
   "outputs": [
    {
     "data": {
      "text/plain": [
       "27.3"
      ]
     },
     "execution_count": 62,
     "metadata": {},
     "output_type": "execute_result"
    }
   ],
   "source": [
    "#Mode\n",
    "Control_Data=(24.01, 26.54, 27.3, 22.22, 31.54, 18.12, 22.5, 28.1, 23.4, 27.3)\n",
    "\n",
    "statistics.mode(Control_Data)"
   ]
  },
  {
   "cell_type": "markdown",
   "id": "2d1147b6-4647-4c11-9d92-3d45a03f98d0",
   "metadata": {},
   "source": [
    "Mike Abbinante CH3 Notebook"
   ]
  }
 ],
 "metadata": {
  "kernelspec": {
   "display_name": "Python 3 (ipykernel)",
   "language": "python",
   "name": "python3"
  },
  "language_info": {
   "codemirror_mode": {
    "name": "ipython",
    "version": 3
   },
   "file_extension": ".py",
   "mimetype": "text/x-python",
   "name": "python",
   "nbconvert_exporter": "python",
   "pygments_lexer": "ipython3",
   "version": "3.9.12"
  }
 },
 "nbformat": 4,
 "nbformat_minor": 5
}
